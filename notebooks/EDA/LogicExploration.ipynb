{
 "cells": [
  {
   "cell_type": "code",
   "execution_count": 1,
   "id": "4dcf8af0",
   "metadata": {},
   "outputs": [],
   "source": [
    "import pandas as pd\n",
    "import matplotlib.pyplot as plt"
   ]
  },
  {
   "cell_type": "markdown",
   "id": "b81cbf2f",
   "metadata": {},
   "source": [
    "# 4th Down, Go vs Punt Logic Exploration\n",
    "This notebook will define logic for 4th down decisions based on the following:\n",
    "- Yards to go\n",
    "- Field Position\n",
    "- Historical Success Rates and EPA\n",
    "\n",
    "I will use the cleaned df_4th dataframe that is filtered to 4th down plays only\n"
   ]
  },
  {
   "cell_type": "code",
   "execution_count": 2,
   "id": "020226c6",
   "metadata": {},
   "outputs": [],
   "source": [
    "df_4th = pd.read_csv(\"C:/Users/jseidl/NFL-4th-Down/data/processed/cleaned_4th_down.csv\")"
   ]
  },
  {
   "cell_type": "code",
   "execution_count": 3,
   "id": "326e1930",
   "metadata": {},
   "outputs": [
    {
     "data": {
      "text/html": [
       "<div>\n",
       "<style scoped>\n",
       "    .dataframe tbody tr th:only-of-type {\n",
       "        vertical-align: middle;\n",
       "    }\n",
       "\n",
       "    .dataframe tbody tr th {\n",
       "        vertical-align: top;\n",
       "    }\n",
       "\n",
       "    .dataframe thead th {\n",
       "        text-align: right;\n",
       "    }\n",
       "</style>\n",
       "<table border=\"1\" class=\"dataframe\">\n",
       "  <thead>\n",
       "    <tr style=\"text-align: right;\">\n",
       "      <th></th>\n",
       "      <th>game_id</th>\n",
       "      <th>play_id</th>\n",
       "      <th>season</th>\n",
       "      <th>week</th>\n",
       "      <th>game_date</th>\n",
       "      <th>qtr</th>\n",
       "      <th>posteam</th>\n",
       "      <th>defteam</th>\n",
       "      <th>down</th>\n",
       "      <th>ydstogo</th>\n",
       "      <th>...</th>\n",
       "      <th>away_wp</th>\n",
       "      <th>wpa</th>\n",
       "      <th>field_goal_result</th>\n",
       "      <th>kick_distance</th>\n",
       "      <th>punt_blocked</th>\n",
       "      <th>no_huddle</th>\n",
       "      <th>shotgun</th>\n",
       "      <th>qb_dropback</th>\n",
       "      <th>desc</th>\n",
       "      <th>yard_bin</th>\n",
       "    </tr>\n",
       "  </thead>\n",
       "  <tbody>\n",
       "    <tr>\n",
       "      <th>0</th>\n",
       "      <td>2010_01_ARI_STL</td>\n",
       "      <td>350.0</td>\n",
       "      <td>2010</td>\n",
       "      <td>1</td>\n",
       "      <td>2010-09-12</td>\n",
       "      <td>1.0</td>\n",
       "      <td>LA</td>\n",
       "      <td>ARI</td>\n",
       "      <td>4.0</td>\n",
       "      <td>7.0</td>\n",
       "      <td>...</td>\n",
       "      <td>0.336936</td>\n",
       "      <td>-0.125491</td>\n",
       "      <td>blocked</td>\n",
       "      <td>34.0</td>\n",
       "      <td>0.0</td>\n",
       "      <td>0.0</td>\n",
       "      <td>0.0</td>\n",
       "      <td>0.0</td>\n",
       "      <td>(9:41) 3-Josh.Brown 34 yard field goal is BLOC...</td>\n",
       "      <td>(10, 20]</td>\n",
       "    </tr>\n",
       "    <tr>\n",
       "      <th>1</th>\n",
       "      <td>2010_01_ARI_STL</td>\n",
       "      <td>445.0</td>\n",
       "      <td>2010</td>\n",
       "      <td>1</td>\n",
       "      <td>2010-09-12</td>\n",
       "      <td>1.0</td>\n",
       "      <td>ARI</td>\n",
       "      <td>LA</td>\n",
       "      <td>4.0</td>\n",
       "      <td>10.0</td>\n",
       "      <td>...</td>\n",
       "      <td>0.375775</td>\n",
       "      <td>0.028613</td>\n",
       "      <td>NaN</td>\n",
       "      <td>46.0</td>\n",
       "      <td>0.0</td>\n",
       "      <td>0.0</td>\n",
       "      <td>0.0</td>\n",
       "      <td>0.0</td>\n",
       "      <td>(8:12) 5-B.Graham punts 46 yards to LA 11, Cen...</td>\n",
       "      <td>(50, 60]</td>\n",
       "    </tr>\n",
       "    <tr>\n",
       "      <th>2</th>\n",
       "      <td>2010_01_ARI_STL</td>\n",
       "      <td>644.0</td>\n",
       "      <td>2010</td>\n",
       "      <td>1</td>\n",
       "      <td>2010-09-12</td>\n",
       "      <td>1.0</td>\n",
       "      <td>ARI</td>\n",
       "      <td>LA</td>\n",
       "      <td>4.0</td>\n",
       "      <td>10.0</td>\n",
       "      <td>...</td>\n",
       "      <td>0.429453</td>\n",
       "      <td>-0.025066</td>\n",
       "      <td>NaN</td>\n",
       "      <td>29.0</td>\n",
       "      <td>0.0</td>\n",
       "      <td>0.0</td>\n",
       "      <td>0.0</td>\n",
       "      <td>0.0</td>\n",
       "      <td>(4:57) 5-B.Graham punts 29 yards to LA 10, Cen...</td>\n",
       "      <td>(30, 40]</td>\n",
       "    </tr>\n",
       "    <tr>\n",
       "      <th>3</th>\n",
       "      <td>2010_01_ARI_STL</td>\n",
       "      <td>727.0</td>\n",
       "      <td>2010</td>\n",
       "      <td>1</td>\n",
       "      <td>2010-09-12</td>\n",
       "      <td>1.0</td>\n",
       "      <td>LA</td>\n",
       "      <td>ARI</td>\n",
       "      <td>4.0</td>\n",
       "      <td>3.0</td>\n",
       "      <td>...</td>\n",
       "      <td>0.449292</td>\n",
       "      <td>-0.014153</td>\n",
       "      <td>NaN</td>\n",
       "      <td>50.0</td>\n",
       "      <td>0.0</td>\n",
       "      <td>0.0</td>\n",
       "      <td>0.0</td>\n",
       "      <td>0.0</td>\n",
       "      <td>(3:06) 5-D.Jones punts 50 yards to ARI 33, Cen...</td>\n",
       "      <td>(80, 90]</td>\n",
       "    </tr>\n",
       "    <tr>\n",
       "      <th>4</th>\n",
       "      <td>2010_01_ARI_STL</td>\n",
       "      <td>1018.0</td>\n",
       "      <td>2010</td>\n",
       "      <td>1</td>\n",
       "      <td>2010-09-12</td>\n",
       "      <td>2.0</td>\n",
       "      <td>ARI</td>\n",
       "      <td>LA</td>\n",
       "      <td>4.0</td>\n",
       "      <td>3.0</td>\n",
       "      <td>...</td>\n",
       "      <td>0.547778</td>\n",
       "      <td>-0.039393</td>\n",
       "      <td>made</td>\n",
       "      <td>22.0</td>\n",
       "      <td>0.0</td>\n",
       "      <td>0.0</td>\n",
       "      <td>0.0</td>\n",
       "      <td>0.0</td>\n",
       "      <td>(13:57) 4-J.Feely 22 yard field goal is GOOD, ...</td>\n",
       "      <td>(0, 10]</td>\n",
       "    </tr>\n",
       "  </tbody>\n",
       "</table>\n",
       "<p>5 rows × 36 columns</p>\n",
       "</div>"
      ],
      "text/plain": [
       "           game_id  play_id  season  week   game_date  qtr posteam defteam  \\\n",
       "0  2010_01_ARI_STL    350.0    2010     1  2010-09-12  1.0      LA     ARI   \n",
       "1  2010_01_ARI_STL    445.0    2010     1  2010-09-12  1.0     ARI      LA   \n",
       "2  2010_01_ARI_STL    644.0    2010     1  2010-09-12  1.0     ARI      LA   \n",
       "3  2010_01_ARI_STL    727.0    2010     1  2010-09-12  1.0      LA     ARI   \n",
       "4  2010_01_ARI_STL   1018.0    2010     1  2010-09-12  2.0     ARI      LA   \n",
       "\n",
       "   down  ydstogo  ...   away_wp       wpa field_goal_result  kick_distance  \\\n",
       "0   4.0      7.0  ...  0.336936 -0.125491           blocked           34.0   \n",
       "1   4.0     10.0  ...  0.375775  0.028613               NaN           46.0   \n",
       "2   4.0     10.0  ...  0.429453 -0.025066               NaN           29.0   \n",
       "3   4.0      3.0  ...  0.449292 -0.014153               NaN           50.0   \n",
       "4   4.0      3.0  ...  0.547778 -0.039393              made           22.0   \n",
       "\n",
       "   punt_blocked  no_huddle shotgun  qb_dropback  \\\n",
       "0           0.0        0.0     0.0          0.0   \n",
       "1           0.0        0.0     0.0          0.0   \n",
       "2           0.0        0.0     0.0          0.0   \n",
       "3           0.0        0.0     0.0          0.0   \n",
       "4           0.0        0.0     0.0          0.0   \n",
       "\n",
       "                                                desc  yard_bin  \n",
       "0  (9:41) 3-Josh.Brown 34 yard field goal is BLOC...  (10, 20]  \n",
       "1  (8:12) 5-B.Graham punts 46 yards to LA 11, Cen...  (50, 60]  \n",
       "2  (4:57) 5-B.Graham punts 29 yards to LA 10, Cen...  (30, 40]  \n",
       "3  (3:06) 5-D.Jones punts 50 yards to ARI 33, Cen...  (80, 90]  \n",
       "4  (13:57) 4-J.Feely 22 yard field goal is GOOD, ...   (0, 10]  \n",
       "\n",
       "[5 rows x 36 columns]"
      ]
     },
     "execution_count": 3,
     "metadata": {},
     "output_type": "execute_result"
    }
   ],
   "source": [
    "df_4th.head()"
   ]
  },
  {
   "cell_type": "code",
   "execution_count": 3,
   "id": "e025d678",
   "metadata": {},
   "outputs": [
    {
     "data": {
      "image/png": "[encoded data removed]",
      "text/plain": [
       "<Figure size 1000x500 with 1 Axes>"
      ]
     },
     "metadata": {},
     "output_type": "display_data"
    }
   ],
   "source": [
    "# Copied from eda ipynb notebook file and tweaked\n",
    "# Only plays where team goes for it on 4th / is a run or pass \n",
    "conversion_attemps = df_4th[df_4th[\"play_type\"].isin([\"run\", \"pass\"])]\n",
    "\n",
    "# Clean and Sort\n",
    "conversion_rate = (\n",
    "    conversion_attemps.groupby(\"ydstogo\")[\"success\"]\n",
    "    .mean()\n",
    "    .reset_index()\n",
    "    .sort_values(\"ydstogo\")\n",
    ")\n",
    "\n",
    "# Casting yds to go as integer\n",
    "conversion_rate[\"ydstogo\"] = conversion_rate[\"ydstogo\"].astype(int)\n",
    "\n",
    "# Plot with matplotlib to visualize and explore\n",
    "plt.figure(figsize=(10, 5))\n",
    "plt.plot(conversion_rate[\"ydstogo\"], conversion_rate[\"success\"], marker=\"o\")\n",
    "plt.title(\"4th Down Conversion Rate by Yards to Go\")\n",
    "plt.xlabel(\"Yards to Go\")\n",
    "plt.ylabel(\"Conversion Rate\")\n",
    "plt.grid(True)\n",
    "plt.show()"
   ]
  },
  {
   "cell_type": "code",
   "execution_count": 4,
   "id": "6fb4a32a",
   "metadata": {},
   "outputs": [],
   "source": [
    "# Separating Go and Punt Attempts\n",
    "df_go = df_4th[df_4th[\"play_type\"].isin([\"run\", \"pass\"])].copy()\n",
    "df_nogo = df_4th[df_4th[\"play_type\"].isin([\"punt\", \"field_goal\"])].copy()"
   ]
  },
  {
   "cell_type": "code",
   "execution_count": 6,
   "id": "6846fc95",
   "metadata": {},
   "outputs": [],
   "source": [
    "# Binning yardlines into 10 yard bins\n",
    "df_go[\"yard_bin\"] = pd.cut(df_go[\"yardline_100\"], bins=range(0, 110, 10))\n",
    "df_nogo[\"yard_bin\"] = pd.cut(df_nogo[\"yardline_100\"], bins=range(0, 110, 10))"
   ]
  },
  {
   "cell_type": "code",
   "execution_count": 7,
   "id": "3ee00c3a",
   "metadata": {},
   "outputs": [],
   "source": [
    "# EPA Grouping by Yard bin\n",
    "epa_go = df_go.groupby(\"yard_bin\")[\"epa\"].mean()\n",
    "epa_nogo = df_nogo.groupby(\"yard_bin\")[\"epa\"].mean()"
   ]
  },
  {
   "cell_type": "code",
   "execution_count": 8,
   "id": "ac2c695f",
   "metadata": {},
   "outputs": [],
   "source": [
    "epa_compare = pd.DataFrame({\"Go Epa\": epa_go, \"NoGo EPA\": epa_nogo})"
   ]
  },
  {
   "cell_type": "code",
   "execution_count": 9,
   "id": "1ebc587f",
   "metadata": {},
   "outputs": [
    {
     "data": {
      "image/png": "[encoded data removed]",
      "text/plain": [
       "<Figure size 1200x500 with 1 Axes>"
      ]
     },
     "metadata": {},
     "output_type": "display_data"
    }
   ],
   "source": [
    "epa_compare.plot(kind=\"bar\", figsize=(12,5))\n",
    "plt.title(\"Average EPA by Field Position (10yd Bins)\")\n",
    "plt.ylabel(\"Average EPA\")\n",
    "plt.xticks(rotation=45)\n",
    "plt.grid(True)\n",
    "plt.show()"
   ]
  },
  {
   "cell_type": "code",
   "execution_count": 10,
   "id": "f1561286",
   "metadata": {},
   "outputs": [],
   "source": [
    "# First iteration rule creation\n",
    "def decision(ydstogo, yardline_100):\n",
    "    if ydstogo <= 2 and yardline_100 <= 50:\n",
    "        return \"Go\"\n",
    "    elif ydstogo <= 4 and yardline_100 <= 40:\n",
    "        return \"Go\"\n",
    "    else:\n",
    "        return \"No Go\""
   ]
  },
  {
   "cell_type": "code",
   "execution_count": 11,
   "id": "7630aa3b",
   "metadata": {},
   "outputs": [
    {
     "data": {
      "text/plain": [
       "'No Go'"
      ]
     },
     "execution_count": 11,
     "metadata": {},
     "output_type": "execute_result"
    }
   ],
   "source": [
    "decision(10, 25)"
   ]
  },
  {
   "cell_type": "code",
   "execution_count": 12,
   "id": "71ef40ef",
   "metadata": {},
   "outputs": [
    {
     "data": {
      "text/plain": [
       "'Go'"
      ]
     },
     "execution_count": 12,
     "metadata": {},
     "output_type": "execute_result"
    }
   ],
   "source": [
    "decision(2, 25)"
   ]
  },
  {
   "cell_type": "code",
   "execution_count": 13,
   "id": "d5d632f1",
   "metadata": {},
   "outputs": [
    {
     "data": {
      "text/plain": [
       "'No Go'"
      ]
     },
     "execution_count": 13,
     "metadata": {},
     "output_type": "execute_result"
    }
   ],
   "source": [
    "decision(1, 60)"
   ]
  },
  {
   "cell_type": "code",
   "execution_count": 14,
   "id": "337a6a01",
   "metadata": {},
   "outputs": [],
   "source": [
    "# Second attempt logic creation\n",
    "df_go[\"yard_bin\"] = pd.cut(df_go[\"yardline_100\"], bins=range(0, 110, 10))\n",
    "df_go[\"distance_bin\"] = pd.cut(df_go[\"ydstogo\"], bins=[0, 1, 2, 4, 6, 10, 100])"
   ]
  },
  {
   "cell_type": "code",
   "execution_count": 15,
   "id": "af7bea61",
   "metadata": {},
   "outputs": [
    {
     "data": {
      "text/html": [
       "<div>\n",
       "<style scoped>\n",
       "    .dataframe tbody tr th:only-of-type {\n",
       "        vertical-align: middle;\n",
       "    }\n",
       "\n",
       "    .dataframe tbody tr th {\n",
       "        vertical-align: top;\n",
       "    }\n",
       "\n",
       "    .dataframe thead th {\n",
       "        text-align: right;\n",
       "    }\n",
       "</style>\n",
       "<table border=\"1\" class=\"dataframe\">\n",
       "  <thead>\n",
       "    <tr style=\"text-align: right;\">\n",
       "      <th></th>\n",
       "      <th>yard_bin</th>\n",
       "      <th>distance_bin</th>\n",
       "      <th>success_rate</th>\n",
       "      <th>avg_epa</th>\n",
       "      <th>attempts</th>\n",
       "    </tr>\n",
       "  </thead>\n",
       "  <tbody>\n",
       "    <tr>\n",
       "      <th>0</th>\n",
       "      <td>(0, 10]</td>\n",
       "      <td>(0, 1]</td>\n",
       "      <td>0.570000</td>\n",
       "      <td>-0.172940</td>\n",
       "      <td>700</td>\n",
       "    </tr>\n",
       "    <tr>\n",
       "      <th>1</th>\n",
       "      <td>(0, 10]</td>\n",
       "      <td>(1, 2]</td>\n",
       "      <td>0.497487</td>\n",
       "      <td>0.332592</td>\n",
       "      <td>199</td>\n",
       "    </tr>\n",
       "    <tr>\n",
       "      <th>2</th>\n",
       "      <td>(0, 10]</td>\n",
       "      <td>(2, 4]</td>\n",
       "      <td>0.366667</td>\n",
       "      <td>-0.387526</td>\n",
       "      <td>180</td>\n",
       "    </tr>\n",
       "    <tr>\n",
       "      <th>3</th>\n",
       "      <td>(0, 10]</td>\n",
       "      <td>(4, 6]</td>\n",
       "      <td>0.282609</td>\n",
       "      <td>-0.837918</td>\n",
       "      <td>92</td>\n",
       "    </tr>\n",
       "    <tr>\n",
       "      <th>4</th>\n",
       "      <td>(0, 10]</td>\n",
       "      <td>(6, 10]</td>\n",
       "      <td>0.310345</td>\n",
       "      <td>-0.547586</td>\n",
       "      <td>58</td>\n",
       "    </tr>\n",
       "  </tbody>\n",
       "</table>\n",
       "</div>"
      ],
      "text/plain": [
       "  yard_bin distance_bin  success_rate   avg_epa  attempts\n",
       "0  (0, 10]       (0, 1]      0.570000 -0.172940       700\n",
       "1  (0, 10]       (1, 2]      0.497487  0.332592       199\n",
       "2  (0, 10]       (2, 4]      0.366667 -0.387526       180\n",
       "3  (0, 10]       (4, 6]      0.282609 -0.837918        92\n",
       "4  (0, 10]      (6, 10]      0.310345 -0.547586        58"
      ]
     },
     "execution_count": 15,
     "metadata": {},
     "output_type": "execute_result"
    }
   ],
   "source": [
    "# Creating a conversion table for decision making zones\n",
    "conversion_table = (\n",
    "    df_go[df_go[\"play_type\"].isin([\"run\", \"pass\"])]\n",
    "    .groupby([\"yard_bin\", \"distance_bin\"])\n",
    "    .agg(success_rate=(\"success\", \"mean\"), avg_epa=(\"epa\", \"mean\"), attempts=(\"play_type\", \"count\"))\n",
    "    .reset_index()\n",
    ")\n",
    "\n",
    "conversion_table.head()"
   ]
  },
  {
   "cell_type": "code",
   "execution_count": 16,
   "id": "b474c251",
   "metadata": {},
   "outputs": [],
   "source": [
    "def lookup_table_row(ydstogo, yardline_100, table):\n",
    "    for _, row in table.iterrows():\n",
    "        if row[\"yard_bin\"].left <= yardline_100 < row[\"yard_bin\"].right and row[\"distance_bin\"].left <= ydstogo < row[\"distance_bin\"].right:\n",
    "            return row\n",
    "    return None"
   ]
  },
  {
   "cell_type": "code",
   "execution_count": 17,
   "id": "7d1a6317",
   "metadata": {},
   "outputs": [],
   "source": [
    "def decide_go_punt(ydstogo, yardline_100, table):\n",
    "    row = lookup_table_row(ydstogo, yardline_100, table)\n",
    "    if row is None:\n",
    "        return \"No Go\"\n",
    "    if row[\"avg_epa\"] > 0 and row[\"attempts\"] >= 50:\n",
    "        return \"Go\"\n",
    "    else:\n",
    "        return \"No Go\""
   ]
  },
  {
   "cell_type": "code",
   "execution_count": 18,
   "id": "323a7feb",
   "metadata": {},
   "outputs": [
    {
     "name": "stdout",
     "output_type": "stream",
     "text": [
      "No Go\n"
     ]
    }
   ],
   "source": [
    "decision = decide_go_punt(1, 80, conversion_table)\n",
    "print(decision)"
   ]
  },
  {
   "cell_type": "code",
   "execution_count": 19,
   "id": "f9cb6230",
   "metadata": {},
   "outputs": [],
   "source": [
    "df_go[\"go_success\"] = df_go[\"success\"] == 1"
   ]
  },
  {
   "cell_type": "code",
   "execution_count": 20,
   "id": "eea0fa29",
   "metadata": {},
   "outputs": [],
   "source": [
    "# Estimating success / Failure EPA\n",
    "epa_split = (\n",
    "    df_go.groupby([\"yard_bin\", \"distance_bin\", \"go_success\"]).agg(avg_epa=(\"epa\", \"mean\"), count=(\"epa\", \"count\")).reset_index())\n",
    "\n",
    "epa_pivot = epa_split.pivot_table(index=[\"yard_bin\", \"distance_bin\"], columns=\"go_success\", values=\"avg_epa\").reset_index()\n",
    "\n",
    "epa_pivot.columns.name = None\n",
    "epa_pivot.rename(columns={False: \"epa_fail\", True: \"epa_success\"}, inplace=True)"
   ]
  },
  {
   "cell_type": "code",
   "execution_count": 21,
   "id": "8ec336d4",
   "metadata": {},
   "outputs": [],
   "source": [
    "# Merging conversion rates\n",
    "conversion_table = (\n",
    "    df_go.groupby([\"yard_bin\", \"distance_bin\"])\n",
    "    .agg(success_rate=(\"success\", \"mean\"), attempts=(\"play_type\", \"count\"))\n",
    "    .reset_index()\n",
    ")\n",
    "\n",
    "decision_table = pd.merge(conversion_table, epa_pivot, on=[\"yard_bin\", \"distance_bin\"])"
   ]
  },
  {
   "cell_type": "code",
   "execution_count": 22,
   "id": "188d5c3e",
   "metadata": {},
   "outputs": [],
   "source": [
    "# No Go EPA Estimates\n",
    "df_nogo = df_4th[df_4th[\"play_type\"].isin([\"punt\",\"field_goal\"])].copy()\n",
    "df_nogo[\"yard_bin\"] = pd.cut(df_nogo[\"yardline_100\"], bins=range(0, 110, 10))\n",
    "\n",
    "nogo_epa_table = (\n",
    "    df_nogo.groupby(\"yard_bin\")[\"epa\"]\n",
    "    .mean()\n",
    "    .reset_index()\n",
    "    .rename(columns={\"epa\": \"epa_nogo\"})\n",
    ")\n",
    "\n",
    "decision_table = pd.merge(decision_table, nogo_epa_table, on=\"yard_bin\", how=\"left\")"
   ]
  },
  {
   "cell_type": "code",
   "execution_count": 23,
   "id": "448efeef",
   "metadata": {},
   "outputs": [],
   "source": [
    "# Building decision table to determine expected value\n",
    "decision_table[\"ev_go\"] = (\n",
    "    decision_table[\"success_rate\"] * decision_table[\"epa_success\"]\n",
    "    + (1 - decision_table[\"success_rate\"]) * decision_table[\"epa_fail\"]\n",
    ")\n",
    "\n",
    "decision_table[\"better_choice\"] = decision_table[\"ev_go\"] > decision_table[\"epa_nogo\"]\n",
    "decision_table[\"decision\"] = decision_table[\"better_choice\"].map({True: \"Go\", False: \"No Go\"})"
   ]
  },
  {
   "cell_type": "code",
   "execution_count": 24,
   "id": "94b997a9",
   "metadata": {},
   "outputs": [],
   "source": [
    "# Decision Function\n",
    "def decide_ev_based(ydstogo, yardline_100, table):\n",
    "    for _, row in table.iterrows():\n",
    "        if row[\"yard_bin\"].left <= yardline_100 < row[\"yard_bin\"].right and \\\n",
    "           row[\"distance_bin\"].left <= ydstogo < row[\"distance_bin\"].right:\n",
    "            return row[\"decision\"]\n",
    "    return \"No Go\""
   ]
  },
  {
   "cell_type": "code",
   "execution_count": 25,
   "id": "70c92eb2",
   "metadata": {},
   "outputs": [
    {
     "name": "stdout",
     "output_type": "stream",
     "text": [
      "Decision: No Go\n"
     ]
    }
   ],
   "source": [
    "# Testing the decisions\n",
    "test_decision = decide_ev_based(ydstogo=3, yardline_100=55, table=decision_table)\n",
    "print(f\"Decision: {test_decision}\")"
   ]
  },
  {
   "cell_type": "code",
   "execution_count": 26,
   "id": "8c05ba46",
   "metadata": {},
   "outputs": [
    {
     "name": "stdout",
     "output_type": "stream",
     "text": [
      "No Go\n"
     ]
    }
   ],
   "source": [
    "print(decide_ev_based(1, 25, decision_table))"
   ]
  },
  {
   "cell_type": "code",
   "execution_count": 27,
   "id": "c4e35d74",
   "metadata": {},
   "outputs": [
    {
     "name": "stdout",
     "output_type": "stream",
     "text": [
      "No Go\n"
     ]
    }
   ],
   "source": [
    "print(decide_ev_based(7, 1, decision_table))"
   ]
  },
  {
   "cell_type": "code",
   "execution_count": 28,
   "id": "0bd59a7d",
   "metadata": {},
   "outputs": [
    {
     "name": "stdout",
     "output_type": "stream",
     "text": [
      "No Go\n"
     ]
    }
   ],
   "source": [
    "print(decide_ev_based(1, 90, decision_table))"
   ]
  },
  {
   "cell_type": "code",
   "execution_count": 29,
   "id": "deff1bb5",
   "metadata": {},
   "outputs": [],
   "source": [
    "decision_table.to_csv(\"C:/Users/jseidl/NFL-4th-Down/data/processed/decision_table.csv\",index=False)"
   ]
  },
  {
   "cell_type": "code",
   "execution_count": null,
   "id": "bf9b03de",
   "metadata": {},
   "outputs": [],
   "source": []
  }
 ],
 "metadata": {
  "kernelspec": {
   "display_name": ".venv",
   "language": "python",
   "name": "python3"
  },
  "language_info": {
   "codemirror_mode": {
    "name": "ipython",
    "version": 3
   },
   "file_extension": ".py",
   "mimetype": "text/x-python",
   "name": "python",
   "nbconvert_exporter": "python",
   "pygments_lexer": "ipython3",
   "version": "3.11.5"
  }
 },
 "nbformat": 4,
 "nbformat_minor": 5
}
