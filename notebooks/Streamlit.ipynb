{
 "cells": [
  {
   "cell_type": "code",
   "execution_count": null,
   "id": "18b7253e",
   "metadata": {},
   "outputs": [],
   "source": [
    "import streamlit as st\n",
    "import pandas as pd\n",
    "import joblib\n",
    "from decision import decide_ev_based\n",
    "import ast"
   ]
  },
  {
   "cell_type": "code",
   "execution_count": 9,
   "id": "275ccfc8",
   "metadata": {},
   "outputs": [],
   "source": [
    "# parsing from CSV\n",
    "def parse_interval(interval_str):\n",
    "    left_bracket = interval_str[0]\n",
    "    right_bracket = interval_str[-1]\n",
    "    left_closed = left_bracket == \"[\"\n",
    "    right_closed = right_bracket == \"]\"\n",
    "    \n",
    "    \n",
    "    bounds = ast.literal_eval(interval_str[1:-1])\n",
    "    return pd.Interval(bounds[0], bounds[1], \n",
    "                       closed=('both' if left_closed and right_closed else \n",
    "                               'left' if left_closed else \n",
    "                               'right' if right_closed else \n",
    "                               'neither'))\n",
    "\n"
   ]
  },
  {
   "cell_type": "code",
   "execution_count": 11,
   "id": "51c829d9",
   "metadata": {},
   "outputs": [],
   "source": [
    "decision_table = pd.read_csv(\"C:/Users/jseidl/NFL-4th-Down/data/decision_table.csv\")"
   ]
  },
  {
   "cell_type": "code",
   "execution_count": 14,
   "id": "365045b5",
   "metadata": {},
   "outputs": [],
   "source": [
    "decision_table[\"yard_bin\"] = decision_table[\"yard_bin\"].apply(parse_interval)\n",
    "decision_table[\"distance_bin\"] = decision_table[\"distance_bin\"].apply(parse_interval)"
   ]
  },
  {
   "cell_type": "code",
   "execution_count": 15,
   "id": "b9f641ba",
   "metadata": {},
   "outputs": [
    {
     "name": "stderr",
     "output_type": "stream",
     "text": [
      "2025-06-27 14:32:24.044 WARNING streamlit.runtime.scriptrunner_utils.script_run_context: Thread 'MainThread': missing ScriptRunContext! This warning can be ignored when running in bare mode.\n",
      "2025-06-27 14:32:24.308 \n",
      "  \u001b[33m\u001b[1mWarning:\u001b[0m to view this Streamlit app on a browser, run it with the following\n",
      "  command:\n",
      "\n",
      "    streamlit run c:\\Users\\jseidl\\NFL-4th-Down\\.venv\\Lib\\site-packages\\ipykernel_launcher.py [ARGUMENTS]\n",
      "2025-06-27 14:32:24.309 Thread 'MainThread': missing ScriptRunContext! This warning can be ignored when running in bare mode.\n"
     ]
    },
    {
     "data": {
      "text/plain": [
       "DeltaGenerator()"
      ]
     },
     "execution_count": 15,
     "metadata": {},
     "output_type": "execute_result"
    }
   ],
   "source": [
    "st.title(\"NFL 4th Down Decision Maker\")"
   ]
  },
  {
   "cell_type": "code",
   "execution_count": 16,
   "id": "92773f72",
   "metadata": {},
   "outputs": [
    {
     "name": "stderr",
     "output_type": "stream",
     "text": [
      "2025-06-27 14:34:59.181 Thread 'MainThread': missing ScriptRunContext! This warning can be ignored when running in bare mode.\n",
      "2025-06-27 14:34:59.182 Thread 'MainThread': missing ScriptRunContext! This warning can be ignored when running in bare mode.\n",
      "2025-06-27 14:34:59.183 Thread 'MainThread': missing ScriptRunContext! This warning can be ignored when running in bare mode.\n",
      "2025-06-27 14:34:59.184 Thread 'MainThread': missing ScriptRunContext! This warning can be ignored when running in bare mode.\n",
      "2025-06-27 14:34:59.185 Session state does not function when running a script without `streamlit run`\n",
      "2025-06-27 14:34:59.186 Thread 'MainThread': missing ScriptRunContext! This warning can be ignored when running in bare mode.\n",
      "2025-06-27 14:34:59.186 Thread 'MainThread': missing ScriptRunContext! This warning can be ignored when running in bare mode.\n",
      "2025-06-27 14:34:59.188 Thread 'MainThread': missing ScriptRunContext! This warning can be ignored when running in bare mode.\n",
      "2025-06-27 14:34:59.189 Thread 'MainThread': missing ScriptRunContext! This warning can be ignored when running in bare mode.\n",
      "2025-06-27 14:34:59.189 Thread 'MainThread': missing ScriptRunContext! This warning can be ignored when running in bare mode.\n",
      "2025-06-27 14:34:59.191 Thread 'MainThread': missing ScriptRunContext! This warning can be ignored when running in bare mode.\n",
      "2025-06-27 14:34:59.192 Thread 'MainThread': missing ScriptRunContext! This warning can be ignored when running in bare mode.\n",
      "2025-06-27 14:34:59.192 Thread 'MainThread': missing ScriptRunContext! This warning can be ignored when running in bare mode.\n",
      "2025-06-27 14:34:59.193 Thread 'MainThread': missing ScriptRunContext! This warning can be ignored when running in bare mode.\n",
      "2025-06-27 14:34:59.193 Thread 'MainThread': missing ScriptRunContext! This warning can be ignored when running in bare mode.\n",
      "2025-06-27 14:34:59.193 Thread 'MainThread': missing ScriptRunContext! This warning can be ignored when running in bare mode.\n",
      "2025-06-27 14:34:59.195 Thread 'MainThread': missing ScriptRunContext! This warning can be ignored when running in bare mode.\n",
      "2025-06-27 14:34:59.196 Thread 'MainThread': missing ScriptRunContext! This warning can be ignored when running in bare mode.\n"
     ]
    }
   ],
   "source": [
    "ydstogo = st.number_input(\"Yards to Go\", min_value=1, max_value=30, value=4)\n",
    "yardline_100 = st.number_input(\"Field Position (distance from opposing end zone)\", min_value=1, max_value=99, value=45)\n",
    "\n",
    "if st.button(\"Should You go for it?\"):\n",
    "    recommendation = decide_ev_based(ydstogo, yardline_100, decision_table)\n",
    "    st.markdown(f\"### Recommendation: ** {recommendation.upper()}**\")"
   ]
  },
  {
   "cell_type": "code",
   "execution_count": 17,
   "id": "815cc20e",
   "metadata": {},
   "outputs": [
    {
     "name": "stderr",
     "output_type": "stream",
     "text": [
      "2025-06-27 14:40:31.507 Thread 'MainThread': missing ScriptRunContext! This warning can be ignored when running in bare mode.\n",
      "2025-06-27 14:40:31.509 Thread 'MainThread': missing ScriptRunContext! This warning can be ignored when running in bare mode.\n",
      "2025-06-27 14:40:31.512 Thread 'MainThread': missing ScriptRunContext! This warning can be ignored when running in bare mode.\n",
      "2025-06-27 14:40:31.513 Thread 'MainThread': missing ScriptRunContext! This warning can be ignored when running in bare mode.\n"
     ]
    }
   ],
   "source": [
    "st.title(\"Debug\")\n",
    "st.write(\"Streamlit Rendering Correctly\")"
   ]
  },
  {
   "cell_type": "code",
   "execution_count": null,
   "id": "1d6e81e3",
   "metadata": {},
   "outputs": [],
   "source": []
  }
 ],
 "metadata": {
  "kernelspec": {
   "display_name": ".venv",
   "language": "python",
   "name": "python3"
  },
  "language_info": {
   "codemirror_mode": {
    "name": "ipython",
    "version": 3
   },
   "file_extension": ".py",
   "mimetype": "text/x-python",
   "name": "python",
   "nbconvert_exporter": "python",
   "pygments_lexer": "ipython3",
   "version": "3.11.5"
  }
 },
 "nbformat": 4,
 "nbformat_minor": 5
}
